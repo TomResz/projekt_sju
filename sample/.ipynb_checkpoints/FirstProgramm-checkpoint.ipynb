{
 "cells": [
  {
   "cell_type": "markdown",
   "metadata": {},
   "source": [
    "# Pierwszy program"
   ]
  },
  {
   "cell_type": "markdown",
   "metadata": {},
   "source": [
    "Budujemy pusty obwód kwantowy złożony z jednoqubitowego rejestru kwantowego i jednobitowego rejestru klasycznego."
   ]
  },
  {
   "cell_type": "code",
   "execution_count": null,
   "metadata": {},
   "outputs": [],
   "source": [
    "from qiskit import QuantumRegister, ClassicalRegister, QuantumCircuit\n",
    "# Create quantum and 1 qubit register\n",
    "qreg_q = QuantumRegister(1, 'q')\n",
    "# Create classical 1 bit register\n",
    "creg_c0 = ClassicalRegister(1, 'c0')\n",
    "# Compose registers into a quantum circuit\n",
    "circuit0 = QuantumCircuit(qreg_q, creg_c0)\n",
    "# Postać grficzna obwodu. Domyślnie początkowe wartości rejestrów są ustawione na |0> i 0.\n",
    "circuit0.draw('mpl', initial_state=True)"
   ]
  },
  {
   "cell_type": "markdown",
   "metadata": {},
   "source": [
    "Wiele informacji na temat stanu rejestru można uzyskać za pomocą modułu `QunatumInfo`."
   ]
  },
  {
   "cell_type": "code",
   "execution_count": null,
   "metadata": {},
   "outputs": [],
   "source": [
    "import qiskit.quantum_info as qinf\n",
    "from qiskit.visualization import plot_histogram\n",
    "\n",
    "psi0 = qinf.Statevector(circuit0)\n",
    "\n",
    "print(psi0)\n",
    "display(psi0.draw('latex', prefix='\\\\ket{\\\\psi_0} = '))\n",
    "print(psi0.probabilities())\n",
    "counts = psi0.sample_counts(shots=1000)\n",
    "print(counts)\n",
    "display(plot_histogram(counts))\n"
   ]
  },
  {
   "cell_type": "markdown",
   "metadata": {},
   "source": [
    "Zbudujmy trzy obwody, każdy złożony z jednej bramki kwantowej."
   ]
  },
  {
   "cell_type": "code",
   "execution_count": null,
   "metadata": {},
   "outputs": [],
   "source": [
    "circuit1 = circuit0.copy()\n",
    "circuit1.x(0)\n",
    "display(circuit1.draw('mpl', initial_state=True))\n",
    "circuit2 = circuit0.copy()\n",
    "circuit2.z(0)\n",
    "display(circuit2.draw('mpl', initial_state=True))\n",
    "circuit3 = circuit0.copy()\n",
    "circuit3.h(0)\n",
    "display(circuit3.draw('mpl', initial_state=True))"
   ]
  },
  {
   "cell_type": "markdown",
   "metadata": {},
   "source": [
    "Stan końcowy rejestru ma postać"
   ]
  },
  {
   "cell_type": "code",
   "execution_count": null,
   "metadata": {},
   "outputs": [],
   "source": [
    "psi1 = qinf.Statevector(circuit1)\n",
    "psi1_l = psi1.draw('latex', prefix='\\\\ket{\\\\psi_1} = ')\n",
    "psi2 = qinf.Statevector(circuit2)\n",
    "psi2_l = psi2.draw('latex', prefix='\\\\ket{\\\\psi_2} = ')\n",
    "psi3 = qinf.Statevector(circuit3)\n",
    "psi3_l = psi3.draw('latex', prefix='\\\\ket{\\\\psi_3} = ')\n",
    "display(psi1_l)\n",
    "display(psi2_l)\n",
    "display(psi3_l)\n",
    "\n",
    "\n"
   ]
  },
  {
   "cell_type": "markdown",
   "metadata": {},
   "source": [
    "Wykonując prosty eksperyment kwantowy uzyskujemy statystykę wyników pomiarów."
   ]
  },
  {
   "cell_type": "code",
   "execution_count": null,
   "metadata": {},
   "outputs": [],
   "source": [
    "cnt_1= psi1.sample_counts(shots=1000)\n",
    "cnt_2= psi2.sample_counts(shots=1000)\n",
    "cnt_3= psi3.sample_counts(shots=1000)\n",
    "display(plot_histogram(cnt_1)) \n",
    "display(plot_histogram(cnt_2)) \n",
    "display(plot_histogram(cnt_3))"
   ]
  },
  {
   "cell_type": "code",
   "execution_count": null,
   "metadata": {},
   "outputs": [],
   "source": [
    "from qiskit.primitives import StatevectorSampler as Sampler\n",
    "sampler = Sampler()\n",
    "job_sampler=sampler.run([circuit2,circuit3], shots=1000)\n",
    "result = job_sampler.result()\n",
    "print(result)\n",
    "counts2 = result[0].data.c0.get_counts()\n",
    "counts3 = result[1].data.c0.get_counts()\n",
    "print(counts2)\n",
    "print(counts3)\n",
    "display(plot_histogram(counts2),plot_histogram(counts3))\n"
   ]
  },
  {
   "cell_type": "markdown",
   "metadata": {},
   "source": [
    "## Uruchomienie programu/obwodu\n",
    "\n",
    "Istnieją dwa podstawowe schematy (tzw. prymitywy) komunikacji z QPU:\n",
    "- `Sampler` zwraca wynik w postaci statystyki wyników pomiarów\n",
    "- `Estimator` zwraca wynik w postaci wartości oczekiwanej zadanej obserwabli.\n",
    "\n",
    "Prymityw `Sampler` wymaga, aby analizowany obwód kwantowy **kończył** się pomiarem stanu rejestrów kwantowych. \n",
    "\n",
    "Prymityw `Estimator` wymaga, aby analizowany obwód kwantowy **nie kończył** się pomiarem. \n"
   ]
  },
  {
   "cell_type": "markdown",
   "metadata": {},
   "source": [
    "W przykładzie wykorzystamy `Sampler`, dlatego dodamy pomiar końcowy do naszego obwodu"
   ]
  },
  {
   "cell_type": "code",
   "execution_count": null,
   "metadata": {},
   "outputs": [],
   "source": [
    "circuit3_sampled = circuit3.copy()\n",
    "circuit3_sampled.measure(0,0)\n",
    "display(circuit3_sampled.draw('mpl', initial_state=True))"
   ]
  },
  {
   "cell_type": "markdown",
   "metadata": {},
   "source": [
    "Przed uruchumieniem, niezależnie od docelowej platformy, należy dokonać translacji abstrakcyjnego obwodu na zestaw bramek wspieranych na danej platformie. Proces ten nazywa się **transpilacją**. "
   ]
  },
  {
   "cell_type": "code",
   "execution_count": null,
   "metadata": {},
   "outputs": [],
   "source": [
    "from qiskit import transpile"
   ]
  },
  {
   "cell_type": "markdown",
   "metadata": {},
   "source": [
    "### Uruchomienie w symulatorze"
   ]
  },
  {
   "cell_type": "markdown",
   "metadata": {},
   "source": [
    "`Qiskit Aer` jest symulatorem komputera kwantowego zapewniającym interfejs identyczny z `IBM Runtime`, czyli tym, który służy do uruchamiania programów na rzeczywistym QPU. "
   ]
  },
  {
   "cell_type": "code",
   "execution_count": null,
   "metadata": {},
   "outputs": [],
   "source": [
    "from qiskit_aer import AerSimulator"
   ]
  },
  {
   "cell_type": "markdown",
   "metadata": {},
   "source": [
    "Teraz inicjujemy platformę wykonawczą. Po jej inicjalizacji możemy dokonać transpilacji obwodu. Jak zobaczymy `Qiskit Aer` natywnie pracuje na bramkach wysokiego poziomu, więc wynik transpilacji jest identyczny z obwodem wejściowym."
   ]
  },
  {
   "cell_type": "code",
   "execution_count": null,
   "metadata": {},
   "outputs": [],
   "source": [
    "backend_aer = AerSimulator() # you can pass noise model here\n",
    "circuit3_transpiled = transpile(circuit3_sampled, backend=backend_aer)\n",
    "display(circuit3_transpiled.draw('mpl', initial_state=True))"
   ]
  },
  {
   "cell_type": "markdown",
   "metadata": {},
   "source": [
    "Teraz można przystąpić do symulacji. Inicjujemy metodę komunikacji z symulatorem."
   ]
  },
  {
   "cell_type": "code",
   "execution_count": null,
   "metadata": {},
   "outputs": [],
   "source": [
    "from qiskit_aer.primitives import SamplerV2 as AerSampler\n",
    "sampler_aer = AerSampler()"
   ]
  },
  {
   "cell_type": "markdown",
   "metadata": {},
   "source": [
    "Uruchamiamy zadanie symulacji. Obwód kwantowy jest uruchamiany `shots` razy."
   ]
  },
  {
   "cell_type": "code",
   "execution_count": null,
   "metadata": {},
   "outputs": [],
   "source": [
    "job_aer=sampler_aer.run([circuit3_transpiled], shots=1000)"
   ]
  },
  {
   "cell_type": "markdown",
   "metadata": {},
   "source": [
    "Wyniki eksperymentu są przechowywane w zmiennej `job`. Za jej pomocą można uzyskać do nich dostęp"
   ]
  },
  {
   "cell_type": "code",
   "execution_count": null,
   "metadata": {},
   "outputs": [],
   "source": [
    "result_aer=job_aer.result()"
   ]
  },
  {
   "cell_type": "markdown",
   "metadata": {},
   "source": [
    "i dokonać ich prezentacji\n",
    "\n",
    "**Uwaga!** Zwróć uwagę na sposób pobrania wyników symulacji - w poniższym kodzie `c0` to nazwa rejestru klasycznego. Gdy rejestr klasyczny zmieni nazwę, to zmieni się również instrukcja pobierająca dane."
   ]
  },
  {
   "cell_type": "code",
   "execution_count": null,
   "metadata": {},
   "outputs": [],
   "source": [
    "counts_aer = result_aer[0].data.c0.get_counts()\n",
    "plot_histogram(counts_aer)"
   ]
  },
  {
   "cell_type": "markdown",
   "metadata": {},
   "source": [
    "### Uruchomienie programu na QPU\n",
    "\n",
    "Schemat prowadzenia obliczeń jest taki sam jak na symulatorze. Rożnica polega na uzupełnieniu go komunikacją z usługą `IBM Runtime`"
   ]
  },
  {
   "cell_type": "markdown",
   "metadata": {},
   "source": [
    "Znajdź najmniej obciążony i dostępny komputer kwantowy."
   ]
  },
  {
   "cell_type": "code",
   "execution_count": null,
   "metadata": {},
   "outputs": [],
   "source": [
    "from qiskit_ibm_runtime import QiskitRuntimeService\n",
    "service = QiskitRuntimeService()\n",
    "backend_qpu = service.least_busy(simulator=False, operational=True)\n",
    "print(backend_qpu.name, \" num qubits:\", backend_qpu.configuration().n_qubits)"
   ]
  },
  {
   "cell_type": "markdown",
   "metadata": {},
   "source": [
    "Dokonaj transpilacji obwodu stosownie do właściwości wybranej platformy sprzętowej. Tym razem wynik transpilacji będzie istotnie różnił się od obwodu w postaci ogólnej. Rozmiar wynikowego rejestru kwantowego będzie równy liczbie qubitów komputera. Opcja `idle_wires` pozwala na ukrycie nieużywanych qubitów."
   ]
  },
  {
   "cell_type": "code",
   "execution_count": null,
   "metadata": {},
   "outputs": [],
   "source": [
    "circuit3_qpu = transpile(circuit3_sampled, backend=backend_qpu)\n",
    "circuit3_qpu.draw('mpl', initial_state=True, idle_wires=False)"
   ]
  },
  {
   "cell_type": "markdown",
   "metadata": {},
   "source": [
    "Zainicjuj prymityw `SamplerV2` z `IBM Runtime`"
   ]
  },
  {
   "cell_type": "code",
   "execution_count": null,
   "metadata": {},
   "outputs": [],
   "source": [
    "from qiskit_ibm_runtime import SamplerV2 as QPUSampler\n",
    "sampler_qpu = QPUSampler(backend_qpu)"
   ]
  },
  {
   "cell_type": "markdown",
   "metadata": {},
   "source": [
    "Teraz można uruchomić obwód na rzeczywistym komputerze kwantowym. Zadanie jest wstawiane do kolejki zadań i oczekuje na wolne zasoby.\n",
    "\n",
    "**Uwaga!** Czas oczekiwania może być bardzo różny i zajmować od pojedynczych sekund do wielu godzin."
   ]
  },
  {
   "cell_type": "code",
   "execution_count": null,
   "metadata": {},
   "outputs": [],
   "source": [
    "job_qpu = sampler_qpu.run([circuit3_qpu])\n",
    "print(job_qpu)"
   ]
  },
  {
   "cell_type": "markdown",
   "metadata": {},
   "source": [
    "Status wykonania zadania można sprawdzić korzystając ze zwróconej zmiennej, "
   ]
  },
  {
   "cell_type": "code",
   "execution_count": null,
   "metadata": {},
   "outputs": [],
   "source": [
    "job_qpu.status()"
   ]
  },
  {
   "cell_type": "markdown",
   "metadata": {},
   "source": [
    "albo w terminie poźniejszym korzystając z ID zadania na stronie [`Dashboard`](https://quantum.ibm.com/)"
   ]
  },
  {
   "cell_type": "code",
   "execution_count": null,
   "metadata": {},
   "outputs": [],
   "source": [
    "job_gpu = service.job('cz7t9wfb7tt0008fsx3g')\n",
    "job_qpu.status()"
   ]
  },
  {
   "cell_type": "markdown",
   "metadata": {},
   "source": [
    "Odbiór i prezentacja wyników odbywa się tak samo jak dla symulatora."
   ]
  },
  {
   "cell_type": "code",
   "execution_count": null,
   "metadata": {},
   "outputs": [],
   "source": [
    "result_qpu=job_qpu.result()\n",
    "counts_qpu = result_qpu[0].data.c0.get_counts()\n",
    "plot_histogram(counts_aer)"
   ]
  }
 ],
 "metadata": {
  "kernelspec": {
   "display_name": "Python 3",
   "language": "python",
   "name": "python3"
  },
  "language_info": {
   "codemirror_mode": {
    "name": "ipython",
    "version": 3
   },
   "file_extension": ".py",
   "mimetype": "text/x-python",
   "name": "python",
   "nbconvert_exporter": "python",
   "pygments_lexer": "ipython3",
   "version": "3.9.2"
  }
 },
 "nbformat": 4,
 "nbformat_minor": 2
}
